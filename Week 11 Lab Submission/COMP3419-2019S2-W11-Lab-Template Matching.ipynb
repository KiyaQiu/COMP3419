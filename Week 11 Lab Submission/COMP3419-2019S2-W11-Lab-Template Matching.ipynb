{
 "cells": [
  {
   "cell_type": "code",
   "execution_count": 1,
   "metadata": {},
   "outputs": [],
   "source": [
    "import numpy as np\n",
    "from tqdm import tqdm\n",
    "from imageio import imread\n",
    "from scipy import misc, ndimage\n",
    "from matplotlib import pyplot as plt\n",
    "import warnings\n",
    "warnings.filterwarnings(\"ignore\")"
   ]
  },
  {
   "cell_type": "markdown",
   "metadata": {},
   "source": [
    "# Single Scale Template Matching (Week11 Lab Exercise Submission)"
   ]
  },
  {
   "cell_type": "markdown",
   "metadata": {},
   "source": [
    "### Load template and apply necessary preprocessing"
   ]
  },
  {
   "cell_type": "code",
   "execution_count": 2,
   "metadata": {},
   "outputs": [
    {
     "name": "stdout",
     "output_type": "stream",
     "text": [
      "(108, 81)\n"
     ]
    },
    {
     "data": {
      "image/png": "[encoded data removed]",
      "text/plain": [
       "<Figure size 432x288 with 1 Axes>"
      ]
     },
     "metadata": {
      "needs_background": "light"
     },
     "output_type": "display_data"
    },
    {
     "name": "stdout",
     "output_type": "stream",
     "text": [
      "[0. 1.]\n"
     ]
    }
   ],
   "source": [
    "template = imread('./W11LabData/template.png', pilmode='L')\n",
    "template = 255 -  template\n",
    "template[template < 128] = 0\n",
    "template[127 < template] = 255\n",
    "template = template/255\n",
    "print(template.shape)\n",
    "plt.imshow(255*template, cmap='gray')\n",
    "plt.show()\n",
    "print(np.unique(template))"
   ]
  },
  {
   "cell_type": "markdown",
   "metadata": {},
   "source": [
    "### Load input image and apply necessary preprocessing"
   ]
  },
  {
   "cell_type": "code",
   "execution_count": 3,
   "metadata": {
    "scrolled": true
   },
   "outputs": [
    {
     "name": "stdout",
     "output_type": "stream",
     "text": [
      "(1053, 745)\n"
     ]
    },
    {
     "data": {
      "image/png": "[encoded data removed]",
      "text/plain": [
       "<Figure size 432x288 with 1 Axes>"
      ]
     },
     "metadata": {
      "needs_background": "light"
     },
     "output_type": "display_data"
    },
    {
     "name": "stdout",
     "output_type": "stream",
     "text": [
      "[0. 1.]\n"
     ]
    }
   ],
   "source": [
    "input_img = imread('./W11LabData/input.png', pilmode='L')\n",
    "input_img[input_img < 128] = 0\n",
    "input_img[127 < input_img] = 255\n",
    "input_img = 255 - input_img\n",
    "input_img = input_img/255\n",
    "print(input_img.shape)\n",
    "plt.imshow(255*input_img, cmap='gray')\n",
    "plt.show()\n",
    "print(np.unique(input_img))"
   ]
  },
  {
   "cell_type": "code",
   "execution_count": 4,
   "metadata": {},
   "outputs": [
    {
     "data": {
      "text/plain": [
       "<matplotlib.image.AxesImage at 0x25211d33c48>"
      ]
     },
     "execution_count": 4,
     "metadata": {},
     "output_type": "execute_result"
    },
    {
     "data": {
      "image/png": "[encoded data removed]",
      "text/plain": [
       "<Figure size 432x288 with 1 Axes>"
      ]
     },
     "metadata": {
      "needs_background": "light"
     },
     "output_type": "display_data"
    }
   ],
   "source": [
    "# ToDo: Complete your code here\n",
    "# Please include your full name and unikey in your final image to be submitted\n",
    "input_height = input_img.shape[0]\n",
    "input_width = input_img.shape[1]\n",
    "temp_height = template.shape[0]\n",
    "temp_width = template.shape[1]\n",
    "\n",
    "block = np.zeros([temp_height, temp_width], np.uint8)\n",
    "output_img = np.zeros([input_height, input_width], np.uint8)\n",
    "\n",
    "for y in range(0,input_height,5):\n",
    "    for x in range(0,input_width,2):\n",
    "        if y+temp_height > input_height or x+temp_width > input_width:\n",
    "            pass\n",
    "        else:\n",
    "            for i in range(temp_height):\n",
    "                for j in range(temp_width):\n",
    "                    block[i][j] = input_img[y+i][x+j]\n",
    "            ssd = np.sum(  (template-block) ** 2 )\n",
    "            if ssd < 1500:\n",
    "                for i in range(temp_height):\n",
    "                    for j in range(temp_width):\n",
    "                        output_img[y+i][x+j] = 255\n",
    "        \n",
    "\n",
    "plt.imshow(output_img, cmap='gray')"
   ]
  },
  {
   "cell_type": "code",
   "execution_count": 8,
   "metadata": {},
   "outputs": [],
   "source": [
    "def generate_results(wk, name, SID, raw_img, output_imgs, channel):\n",
    "    img_size = raw_img.shape\n",
    "    x = img_size[0]\n",
    "    y = img_size[1]\n",
    "    \n",
    "    # resize input image to a suitable size\n",
    "    while x > 10:\n",
    "        x /= (x / 10)\n",
    "        y /= (y / 10)\n",
    "\n",
    "    # Generate one axes each for the original image and all output images\n",
    "    fig, axs = plt.subplots(1, len(output_imgs)+1, figsize=(x,y))\n",
    "    \n",
    "    # Plot the original image\n",
    "    if channel == 1:\n",
    "        axs[0].imshow(raw_img, cmap='gray')\n",
    "    elif channel == 3:\n",
    "        axs[0].imshow(raw_img)\n",
    "    axs[0].text(0.5,-0.1, 'Original Image', size=12, ha=\"center\", transform=axs[0].transAxes)\n",
    "    axs[0].axis('off')\n",
    "    \n",
    "    # Plot each output image\n",
    "    tasks = list(output_imgs.keys())\n",
    "    for i in range(1,len(tasks)+1):\n",
    "        if channel == 1:\n",
    "            axs[i].imshow(output_imgs[tasks[i-1]], cmap='gray')\n",
    "        elif channel == 3:\n",
    "            axs[i].imshow(output_imgs[tasks[i-1]])\n",
    "        axs[i].text(0.5,-0.1, tasks[i-1], size=12, ha=\"center\", transform=axs[i].transAxes)\n",
    "        axs[i].axis('off')\n",
    "\n",
    "    fig.suptitle(\"Week %i Lab Exercise\\n %s SID:%i\"%(wk, name, SID),x=0.5,y=1)\n",
    "    plt.tight_layout()\n",
    "    plt.show()"
   ]
  },
  {
   "cell_type": "code",
   "execution_count": 11,
   "metadata": {},
   "outputs": [
    {
     "data": {
      "image/png": "[encoded data removed]",
      "text/plain": [
       "<Figure size 720x720 with 2 Axes>"
      ]
     },
     "metadata": {
      "needs_background": "light"
     },
     "output_type": "display_data"
    }
   ],
   "source": [
    "output_imgs = {'Output Image': output_img}\n",
    "generate_results(11, 'Jiye Qiu', 460332404, 255*input_img, output_imgs,1)"
   ]
  },
  {
   "cell_type": "markdown",
   "metadata": {},
   "source": [
    "# Extension: Multi-scale Template Matching"
   ]
  },
  {
   "cell_type": "code",
   "execution_count": 9,
   "metadata": {},
   "outputs": [
    {
     "name": "stdout",
     "output_type": "stream",
     "text": [
      "(1053, 745)\n"
     ]
    },
    {
     "data": {
      "image/png": "[encoded data removed]",
      "text/plain": [
       "<Figure size 432x288 with 1 Axes>"
      ]
     },
     "metadata": {
      "needs_background": "light"
     },
     "output_type": "display_data"
    },
    {
     "name": "stdout",
     "output_type": "stream",
     "text": [
      "[  0 255]\n"
     ]
    }
   ],
   "source": [
    "input2 = imread('./W11LabData/input.png', mode='L')\n",
    "input2[input2 < 128] = 0\n",
    "input2[127 < input2] = 255\n",
    "input2 = 255 - input2\n",
    "print(input2.shape)\n",
    "plt.imshow(input2, cmap='gray')\n",
    "plt.show()\n",
    "print(np.unique(input2))"
   ]
  },
  {
   "cell_type": "code",
   "execution_count": 10,
   "metadata": {},
   "outputs": [],
   "source": [
    "# ToDo: Complete your code here"
   ]
  },
  {
   "cell_type": "markdown",
   "metadata": {},
   "source": [
    "# Advanced Extension: Feature-based Template Matching"
   ]
  },
  {
   "cell_type": "code",
   "execution_count": 11,
   "metadata": {},
   "outputs": [
    {
     "name": "stdout",
     "output_type": "stream",
     "text": [
      "(1053, 745)\n"
     ]
    },
    {
     "data": {
      "image/png": "[encoded data removed]",
      "text/plain": [
       "<Figure size 432x288 with 1 Axes>"
      ]
     },
     "metadata": {
      "needs_background": "light"
     },
     "output_type": "display_data"
    },
    {
     "name": "stdout",
     "output_type": "stream",
     "text": [
      "[  0 255]\n"
     ]
    }
   ],
   "source": [
    "input3 = imread('./W11LabData/input_feature_based_matching.png', mode='L')\n",
    "input3[input3 < 128] = 0\n",
    "input3[127 < input3] = 255\n",
    "input3 = 255 - input3\n",
    "print(input3.shape)\n",
    "plt.imshow(input3, cmap='gray')\n",
    "plt.show()\n",
    "print(np.unique(input3))"
   ]
  },
  {
   "cell_type": "code",
   "execution_count": 12,
   "metadata": {},
   "outputs": [],
   "source": [
    "# ToDo: Complete your code here"
   ]
  }
 ],
 "metadata": {
  "kernelspec": {
   "display_name": "Python 3",
   "language": "python",
   "name": "python3"
  },
  "language_info": {
   "codemirror_mode": {
    "name": "ipython",
    "version": 3
   },
   "file_extension": ".py",
   "mimetype": "text/x-python",
   "name": "python",
   "nbconvert_exporter": "python",
   "pygments_lexer": "ipython3",
   "version": "3.7.4"
  }
 },
 "nbformat": 4,
 "nbformat_minor": 2
}
